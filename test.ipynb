{
 "cells": [
  {
   "cell_type": "code",
   "execution_count": 34,
   "metadata": {},
   "outputs": [
    {
     "name": "stdout",
     "output_type": "stream",
     "text": [
      "Requirement already satisfied: pdf2image in d:\\python310\\lib\\site-packages (1.17.0)\n",
      "Requirement already satisfied: pillow in d:\\python310\\lib\\site-packages (from pdf2image) (9.3.0)\n"
     ]
    },
    {
     "name": "stderr",
     "output_type": "stream",
     "text": [
      "WARNING: You are using pip version 21.2.3; however, version 24.3.1 is available.\n",
      "You should consider upgrading via the 'D:\\python310\\python.exe -m pip install --upgrade pip' command.\n"
     ]
    },
    {
     "name": "stdout",
     "output_type": "stream",
     "text": [
      "Requirement already satisfied: Pillow in d:\\python310\\lib\\site-packages (9.3.0)\n",
      "Collecting img2pdf\n",
      "  Downloading img2pdf-0.5.1.tar.gz (104 kB)\n",
      "Collecting pikepdf\n",
      "  Downloading pikepdf-9.4.2-cp310-cp310-win_amd64.whl (3.5 MB)\n",
      "Requirement already satisfied: lxml>=4.8 in d:\\python310\\lib\\site-packages (from pikepdf->img2pdf) (5.2.2)\n",
      "Requirement already satisfied: packaging in d:\\python310\\lib\\site-packages (from pikepdf->img2pdf) (23.2)\n",
      "Collecting Pillow\n",
      "  Downloading pillow-11.0.0-cp310-cp310-win_amd64.whl (2.6 MB)\n",
      "Collecting Deprecated\n",
      "  Downloading Deprecated-1.2.15-py2.py3-none-any.whl (9.9 kB)\n",
      "Requirement already satisfied: wrapt<2,>=1.10 in d:\\python310\\lib\\site-packages (from Deprecated->pikepdf->img2pdf) (1.16.0)\n",
      "Building wheels for collected packages: img2pdf\n",
      "  Building wheel for img2pdf (setup.py): started\n",
      "  Building wheel for img2pdf (setup.py): finished with status 'done'\n",
      "  Created wheel for img2pdf: filename=img2pdf-0.5.1-py3-none-any.whl size=49353 sha256=371ea6214b4d024c9307ed482608aa2632508c9ca9eb54e48912dd07872eabd0\n",
      "  Stored in directory: c:\\users\\win 10 pro\\appdata\\local\\pip\\cache\\wheels\\b7\\e2\\32\\e12ea533072415219fc91a248cc413f34c505881ba850bf058\n",
      "Successfully built img2pdf\n",
      "Installing collected packages: Pillow, Deprecated, pikepdf, img2pdf\n",
      "  Attempting uninstall: Pillow\n",
      "    Found existing installation: Pillow 9.3.0\n",
      "    Uninstalling Pillow-9.3.0:\n",
      "      Successfully uninstalled Pillow-9.3.0\n"
     ]
    },
    {
     "name": "stderr",
     "output_type": "stream",
     "text": [
      "ERROR: Could not install packages due to an OSError: [WinError 5] Access is denied: 'D:\\\\python310\\\\Lib\\\\site-packages\\\\~il\\\\_imaging.cp310-win_amd64.pyd'\n",
      "Consider using the `--user` option or check the permissions.\n",
      "\n",
      "WARNING: You are using pip version 21.2.3; however, version 24.3.1 is available.\n",
      "You should consider upgrading via the 'D:\\python310\\python.exe -m pip install --upgrade pip' command.\n"
     ]
    }
   ],
   "source": [
    "!pip install pdf2image\n",
    "!pip install Pillow img2pdf"
   ]
  },
  {
   "cell_type": "code",
   "execution_count": 37,
   "metadata": {},
   "outputs": [
    {
     "name": "stdout",
     "output_type": "stream",
     "text": [
      "Collecting img2pdf\n",
      "  Using cached img2pdf-0.5.1-py3-none-any.whl\n",
      "Requirement already satisfied: Pillow in d:\\python310\\lib\\site-packages (from img2pdf) (11.0.0)\n",
      "Collecting pikepdf\n",
      "  Using cached pikepdf-9.4.2-cp310-cp310-win_amd64.whl (3.5 MB)\n",
      "Requirement already satisfied: lxml>=4.8 in d:\\python310\\lib\\site-packages (from pikepdf->img2pdf) (5.2.2)\n",
      "Requirement already satisfied: packaging in d:\\python310\\lib\\site-packages (from pikepdf->img2pdf) (23.2)\n",
      "Collecting Deprecated\n",
      "  Using cached Deprecated-1.2.15-py2.py3-none-any.whl (9.9 kB)\n",
      "Requirement already satisfied: wrapt<2,>=1.10 in d:\\python310\\lib\\site-packages (from Deprecated->pikepdf->img2pdf) (1.16.0)\n",
      "Installing collected packages: Deprecated, pikepdf, img2pdf\n",
      "Successfully installed Deprecated-1.2.15 img2pdf-0.5.1 pikepdf-9.4.2\n"
     ]
    },
    {
     "name": "stderr",
     "output_type": "stream",
     "text": [
      "WARNING: Ignoring invalid distribution -illow (d:\\python310\\lib\\site-packages)\n",
      "WARNING: Ignoring invalid distribution -illow (d:\\python310\\lib\\site-packages)\n",
      "WARNING: Ignoring invalid distribution -illow (d:\\python310\\lib\\site-packages)\n",
      "WARNING: Ignoring invalid distribution -illow (d:\\python310\\lib\\site-packages)\n",
      "WARNING: Ignoring invalid distribution -illow (d:\\python310\\lib\\site-packages)\n",
      "WARNING: Ignoring invalid distribution -illow (d:\\python310\\lib\\site-packages)\n",
      "WARNING: Ignoring invalid distribution -illow (d:\\python310\\lib\\site-packages)\n",
      "WARNING: Ignoring invalid distribution -illow (d:\\python310\\lib\\site-packages)\n",
      "WARNING: Ignoring invalid distribution -illow (d:\\python310\\lib\\site-packages)\n",
      "WARNING: You are using pip version 21.2.3; however, version 24.3.1 is available.\n",
      "You should consider upgrading via the 'D:\\python310\\python.exe -m pip install --upgrade pip' command.\n"
     ]
    }
   ],
   "source": [
    "!pip install img2pdf"
   ]
  },
  {
   "cell_type": "code",
   "execution_count": 1,
   "metadata": {},
   "outputs": [],
   "source": [
    "from pdf2image import convert_from_path\n",
    "import numpy as np\n",
    "from PIL import Image\n",
    "import cv2\n",
    "import os\n",
    "import img2pdf\n",
    "import shutil\n"
   ]
  },
  {
   "cell_type": "code",
   "execution_count": 3,
   "metadata": {},
   "outputs": [],
   "source": [
    "path = 'matrixcookbook.pdf'\n",
    "poppler_path = r\"D:\\ml_programs\\poppler-24.08.0\\Library\\bin\"\n",
    "output_path = \"temp_book\"\n",
    "landscape_images_path = \"processed_book\"\n",
    "desired_dimensions = (2480, 3508)\n",
    "top = 25\n",
    "bottom = 10\n",
    "left = 10\n",
    "right = 20\n",
    "added_line_width = 1\n",
    "line = np.ones((desired_dimensions[0], added_line_width*2, 3), dtype=np.uint8) * np.array((0, 0, 0), dtype=np.uint8)\n",
    "\n",
    "def book_into_images(path, poppler_path, output_path):\n",
    "    images = convert_from_path(path, poppler_path=poppler_path, dpi=300)\n",
    "    for i in range(len(images)):\n",
    "        # Save pages as images in the pdf\n",
    "        images[i].save(output_path+'/page'+ str(i) +'.png', 'PNG')\n",
    "\n",
    "def read_image(image_path):\n",
    "    image = cv2.imread(image_path)\n",
    "    return image\n",
    "\n",
    "def crop_page(image):\n",
    "    grayscale = cv2.cvtColor(image, cv2.COLOR_BGR2GRAY)\n",
    "    threshold_value = 128\n",
    "    _, binary = cv2.threshold(grayscale, threshold_value, 255, cv2.THRESH_BINARY)\n",
    "    rows_with_content = np.any(binary == 0, axis=1)\n",
    "    cols_with_content = np.any(binary == 0, axis=0)\n",
    "    top = np.argmax(rows_with_content)  \n",
    "    bottom = len(rows_with_content) - np.argmax(np.flipud(rows_with_content)) \n",
    "    left = np.argmax(cols_with_content)  \n",
    "    right = len(cols_with_content) - np.argmax(np.flip(cols_with_content)) \n",
    "    cropped_image = image[top:bottom, left:right]\n",
    "    return cropped_image\n",
    "\n",
    "def stretch_image(cropped_image, desired_dimensions, top, bottom, left, right, added_line_width):\n",
    "    width = int(desired_dimensions[1]/2 - (left + right + added_line_width))\n",
    "    height = int(desired_dimensions[0] - (top + bottom))\n",
    "    stretched_image = cv2.resize(cropped_image, (width, height))\n",
    "    return stretched_image\n",
    "\n",
    "def add_margins(stretched_image, top, bottom, left, right):\n",
    "    image_with_margins = cv2.copyMakeBorder(\n",
    "        stretched_image, top, bottom, left, right, cv2.BORDER_CONSTANT, value=(255, 255, 255)  # White margins\n",
    "    )\n",
    "    return image_with_margins\n",
    "\n",
    "def concat_image(left_page, right_page, line):\n",
    "    side_by_side_image = np.hstack((left_page, line, right_page))\n",
    "    return side_by_side_image\n",
    "\n",
    "def produce_landscape_page(left_page_path, right_page_path, desired_dimensions, top, bottom, right, added_line_width, line):\n",
    "    left_page, right_page = read_image(left_page_path), read_image(right_page_path)\n",
    "    left_cropped_page = crop_page(left_page)\n",
    "    left_stretched_page = stretch_image(left_cropped_page, desired_dimensions, top, bottom, left, right, added_line_width)\n",
    "    left_margined_page = add_margins(left_stretched_page, top, bottom, left, right)\n",
    "                                     \n",
    "    right_cropped_page = crop_page(right_page)\n",
    "    right_stretched_page = stretch_image(right_cropped_page, desired_dimensions, top, bottom, left, right, added_line_width)\n",
    "    right_margined_page = add_margins(right_stretched_page, top, bottom, right, left)\n",
    "\n",
    "    landscape_page = concat_image(left_margined_page, right_margined_page, line)\n",
    "    return landscape_page"
   ]
  },
  {
   "cell_type": "code",
   "execution_count": 5,
   "metadata": {},
   "outputs": [],
   "source": [
    "os.makedirs(output_path)\n",
    "os.makedirs(landscape_images_path)\n",
    "book_into_images(path, poppler_path, output_path)\n",
    "\n",
    "all_image_paths = os.listdir(path=output_path)\n",
    "all_image_paths.sort(key=lambda x: int(x[4:-4]))\n",
    "full_image_paths = [output_path+\"/\"+i for i in all_image_paths]\n",
    "count = 0\n",
    "for left_page_path, right_page_path in zip(full_image_paths[::2], full_image_paths[1::2]):\n",
    "    landscape_page = produce_landscape_page(left_page_path, right_page_path, desired_dimensions, top, bottom, right, added_line_width, line)\n",
    "    cv2.imwrite(landscape_images_path+\"/page\"+str(count)+\".png\", landscape_page)\n",
    "    count+=1"
   ]
  },
  {
   "cell_type": "code",
   "execution_count": 43,
   "metadata": {},
   "outputs": [],
   "source": [
    "all_image_paths = os.listdir(path=landscape_images_path)\n",
    "all_image_paths.sort(key=lambda x: int(x[4:-4]))\n",
    "full_image_paths = [landscape_images_path+\"/\"+i for i in all_image_paths]\n",
    "with open(path[:-4]+\"_landscaped.pdf\",\"wb\") as f:\n",
    "\tf.write(img2pdf.convert(full_image_paths))\n",
    "\n"
   ]
  },
  {
   "cell_type": "code",
   "execution_count": 2,
   "metadata": {},
   "outputs": [],
   "source": [
    "shutil.rmtree('processed_book')\n",
    "shutil.rmtree(\"temp_book\")"
   ]
  },
  {
   "cell_type": "code",
   "execution_count": null,
   "metadata": {},
   "outputs": [],
   "source": []
  }
 ],
 "metadata": {
  "kernelspec": {
   "display_name": "Python 3",
   "language": "python",
   "name": "python3"
  },
  "language_info": {
   "codemirror_mode": {
    "name": "ipython",
    "version": 3
   },
   "file_extension": ".py",
   "mimetype": "text/x-python",
   "name": "python",
   "nbconvert_exporter": "python",
   "pygments_lexer": "ipython3",
   "version": "3.10.0"
  }
 },
 "nbformat": 4,
 "nbformat_minor": 2
}
